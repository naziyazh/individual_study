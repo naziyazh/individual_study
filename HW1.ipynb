{
  "nbformat": 4,
  "nbformat_minor": 0,
  "metadata": {
    "colab": {
      "name": "HW1.ipynb",
      "provenance": []
    },
    "kernelspec": {
      "name": "python3",
      "display_name": "Python 3"
    }
  },
  "cells": [
    {
      "cell_type": "code",
      "metadata": {
        "id": "mguyUsT7IngM",
        "colab_type": "code",
        "outputId": "b6a58697-9476-4ab1-abb9-edb0722a65d3",
        "colab": {
          "base_uri": "https://localhost:8080/",
          "height": 587
        }
      },
      "source": [
        "!pip install cobra"
      ],
      "execution_count": 0,
      "outputs": [
        {
          "output_type": "stream",
          "text": [
            "Collecting cobra\n",
            "\u001b[?25l  Downloading https://files.pythonhosted.org/packages/c7/49/24ae8af404bc3d1135a6a50ee70478806205bee14a4b5addc554612276f4/cobra-0.17.1-py2.py3-none-any.whl (1.9MB)\n",
            "\u001b[K     |████████████████████████████████| 1.9MB 4.9MB/s \n",
            "\u001b[?25hCollecting swiglpk\n",
            "\u001b[?25l  Downloading https://files.pythonhosted.org/packages/88/08/f9d8bea97a0e811ee538a8ad84529437c0093efbcdd19cc5427f45e73502/swiglpk-4.65.1-cp36-cp36m-manylinux1_x86_64.whl (627kB)\n",
            "\u001b[K     |████████████████████████████████| 634kB 49.2MB/s \n",
            "\u001b[?25hRequirement already satisfied: pandas>=0.17.0 in /usr/local/lib/python3.6/dist-packages (from cobra) (0.25.3)\n",
            "Requirement already satisfied: future in /usr/local/lib/python3.6/dist-packages (from cobra) (0.16.0)\n",
            "Requirement already satisfied: numpy>=1.13 in /usr/local/lib/python3.6/dist-packages (from cobra) (1.17.5)\n",
            "Collecting depinfo\n",
            "  Downloading https://files.pythonhosted.org/packages/e4/52/815b70d52b495bce1558d61a5e2fa4dffc1d696e1c5c65bfdd3c04b4bc90/depinfo-1.5.3-py2.py3-none-any.whl\n",
            "Collecting python-libsbml-experimental==5.18.0\n",
            "\u001b[?25l  Downloading https://files.pythonhosted.org/packages/b6/8c/9116eb297e2d713382e1934651b3a6ee2dbe82c47944428db30b99f0cab9/python_libsbml_experimental-5.18.0-cp36-cp36m-manylinux1_x86_64.whl (43.9MB)\n",
            "\u001b[K     |████████████████████████████████| 43.9MB 84kB/s \n",
            "\u001b[?25hRequirement already satisfied: six in /usr/local/lib/python3.6/dist-packages (from cobra) (1.12.0)\n",
            "Collecting ruamel.yaml>=0.16\n",
            "\u001b[?25l  Downloading https://files.pythonhosted.org/packages/99/a8/25242fc81d0c02460e93e8cc7ec4ae60c2382c00ba0a0e1becc22e76548d/ruamel.yaml-0.16.6-py2.py3-none-any.whl (123kB)\n",
            "\u001b[K     |████████████████████████████████| 133kB 55.0MB/s \n",
            "\u001b[?25hCollecting optlang>=1.4.2\n",
            "\u001b[?25l  Downloading https://files.pythonhosted.org/packages/5b/6a/25e8c4a0b487e5e23b968942e85a52e3072b38ddb3619e52e89c2e822d65/optlang-1.4.4-py2.py3-none-any.whl (125kB)\n",
            "\u001b[K     |████████████████████████████████| 133kB 55.8MB/s \n",
            "\u001b[?25hRequirement already satisfied: pytz>=2017.2 in /usr/local/lib/python3.6/dist-packages (from pandas>=0.17.0->cobra) (2018.9)\n",
            "Requirement already satisfied: python-dateutil>=2.6.1 in /usr/local/lib/python3.6/dist-packages (from pandas>=0.17.0->cobra) (2.6.1)\n",
            "Collecting pipdeptree>=0.13.2\n",
            "  Downloading https://files.pythonhosted.org/packages/12/64/26c7df3ad833cd6e8b9735c5958b25d6aef1617c915b2731baedfbeee712/pipdeptree-0.13.2-py3-none-any.whl\n",
            "Collecting ruamel.yaml.clib>=0.1.2; platform_python_implementation == \"CPython\" and python_version < \"3.8\"\n",
            "\u001b[?25l  Downloading https://files.pythonhosted.org/packages/53/77/4bcd63f362bcb6c8f4f06253c11f9772f64189bf08cf3f40c5ccbda9e561/ruamel.yaml.clib-0.2.0-cp36-cp36m-manylinux1_x86_64.whl (548kB)\n",
            "\u001b[K     |████████████████████████████████| 552kB 62.1MB/s \n",
            "\u001b[?25hRequirement already satisfied: sympy>=1.0.0 in /usr/local/lib/python3.6/dist-packages (from optlang>=1.4.2->cobra) (1.1.1)\n",
            "Requirement already satisfied: pip>=6.0.0 in /usr/local/lib/python3.6/dist-packages (from pipdeptree>=0.13.2->depinfo->cobra) (19.3.1)\n",
            "Requirement already satisfied: mpmath>=0.19 in /usr/local/lib/python3.6/dist-packages (from sympy>=1.0.0->optlang>=1.4.2->cobra) (1.1.0)\n",
            "Installing collected packages: swiglpk, pipdeptree, depinfo, python-libsbml-experimental, ruamel.yaml.clib, ruamel.yaml, optlang, cobra\n",
            "Successfully installed cobra-0.17.1 depinfo-1.5.3 optlang-1.4.4 pipdeptree-0.13.2 python-libsbml-experimental-5.18.0 ruamel.yaml-0.16.6 ruamel.yaml.clib-0.2.0 swiglpk-4.65.1\n"
          ],
          "name": "stdout"
        }
      ]
    },
    {
      "cell_type": "code",
      "metadata": {
        "id": "mtvoHkRmIolz",
        "colab_type": "code",
        "colab": {}
      },
      "source": [
        "!pip list"
      ],
      "execution_count": 0,
      "outputs": []
    },
    {
      "cell_type": "markdown",
      "metadata": {
        "id": "bO_cAIAgEn5Z",
        "colab_type": "text"
      },
      "source": [
        "### 1. Obtain a SBML file (“iMM904”) of a genome-scale metabolic model (GEM) of Saccharomyces cerevisiae S288C from the BiGG Models:"
      ]
    },
    {
      "cell_type": "code",
      "metadata": {
        "id": "GeTBsg5OJCy6",
        "colab_type": "code",
        "colab": {}
      },
      "source": [
        "import cobra.test\n",
        "import os\n",
        "from os.path import join\n",
        "#data_dir = cobra.test.data_dir what is dis for then\n",
        "#model = cobra.io.read_sbml_model(\"iMM904.xml\")"
      ],
      "execution_count": 0,
      "outputs": []
    },
    {
      "cell_type": "code",
      "metadata": {
        "id": "jfX_a0scEmaz",
        "colab_type": "code",
        "outputId": "90e14368-d095-420b-d683-cd401e3f0f61",
        "colab": {
          "base_uri": "https://localhost:8080/",
          "height": 183
        }
      },
      "source": [
        "model.medium"
      ],
      "execution_count": 0,
      "outputs": [
        {
          "output_type": "execute_result",
          "data": {
            "text/plain": [
              "{'EX_fe2_e': 999999.0,\n",
              " 'EX_glc__D_e': 10.0,\n",
              " 'EX_h2o_e': 999999.0,\n",
              " 'EX_h_e': 999999.0,\n",
              " 'EX_k_e': 999999.0,\n",
              " 'EX_na1_e': 999999.0,\n",
              " 'EX_nh4_e': 999999.0,\n",
              " 'EX_o2_e': 2.0,\n",
              " 'EX_pi_e': 999999.0,\n",
              " 'EX_so4_e': 999999.0}"
            ]
          },
          "metadata": {
            "tags": []
          },
          "execution_count": 4
        }
      ]
    },
    {
      "cell_type": "code",
      "metadata": {
        "id": "uh8gujqKGZ5P",
        "colab_type": "code",
        "outputId": "2e988f75-b51a-436d-ef94-a5ef5b41f26d",
        "colab": {
          "base_uri": "https://localhost:8080/",
          "height": 33
        }
      },
      "source": [
        "original = model.slim_optimize()\n",
        "original"
      ],
      "execution_count": 0,
      "outputs": [
        {
          "output_type": "execute_result",
          "data": {
            "text/plain": [
              "0.28786570370401793"
            ]
          },
          "metadata": {
            "tags": []
          },
          "execution_count": 5
        }
      ]
    },
    {
      "cell_type": "markdown",
      "metadata": {
        "id": "FpF9Yd-0GIsg",
        "colab_type": "text"
      },
      "source": [
        "### 2. What is the maximal growth rate (/h) of S. cerevisiae S288C GEM under the glucose minimal medium with oxygen?"
      ]
    },
    {
      "cell_type": "code",
      "metadata": {
        "id": "tMHQBqo4FYbs",
        "colab_type": "code",
        "outputId": "8290131f-8e66-4bfb-8525-958c7e4ec3f7",
        "colab": {
          "base_uri": "https://localhost:8080/",
          "height": 33
        }
      },
      "source": [
        "from cobra.medium import minimal_medium\n",
        "with model:\n",
        "    model.medium = minimal_medium(model,original)\n",
        "    print(model.slim_optimize())\n",
        "    #print(model.medium)\n",
        "\n",
        "    \n"
      ],
      "execution_count": 0,
      "outputs": [
        {
          "output_type": "stream",
          "text": [
            "0.0999999999999993\n"
          ],
          "name": "stdout"
        }
      ]
    },
    {
      "cell_type": "markdown",
      "metadata": {
        "id": "sW1gq84kGyiR",
        "colab_type": "text"
      },
      "source": [
        "### 3.What is the maximal growth rate (/h) of S. cerevisiae S288C GEM under the minimal medium having both glucose and sucrose with oxygen?"
      ]
    },
    {
      "cell_type": "code",
      "metadata": {
        "id": "E8iDvu7IQcrm",
        "colab_type": "code",
        "outputId": "936dd00f-76be-4264-eae3-8baa0950145c",
        "colab": {
          "base_uri": "https://localhost:8080/",
          "height": 33
        }
      },
      "source": [
        "with model:\n",
        "  medium = model.medium\n",
        "  medium[\"EX_sucr_e\"] = 10.0 \n",
        "  model.medium = medium\n",
        "  model.medium = minimal_medium(model, original)\n",
        "  print(model.slim_optimize())\n",
        "  \n",
        "  "
      ],
      "execution_count": 0,
      "outputs": [
        {
          "output_type": "stream",
          "text": [
            "0.28786570370401565\n"
          ],
          "name": "stdout"
        }
      ]
    },
    {
      "cell_type": "markdown",
      "metadata": {
        "id": "tGtnKx6UG7ZO",
        "colab_type": "text"
      },
      "source": [
        "### 4. What is its maximal growth rate under the anaerobic condition?"
      ]
    },
    {
      "cell_type": "code",
      "metadata": {
        "id": "8dUIOHHGHAQ2",
        "colab_type": "code",
        "outputId": "ba250932-d628-4f64-debf-6b2d246d8b01",
        "colab": {
          "base_uri": "https://localhost:8080/",
          "height": 33
        }
      },
      "source": [
        "with model:\n",
        "    medium = model.medium\n",
        "    medium['EX_o2_e'] = 0.0\n",
        "    model.medium = medium\n",
        "    print(model.slim_optimize())\n",
        "\n",
        "    \n"
      ],
      "execution_count": 0,
      "outputs": [
        {
          "output_type": "stream",
          "text": [
            "3.710595756828352e-16\n"
          ],
          "name": "stdout"
        }
      ]
    },
    {
      "cell_type": "code",
      "metadata": {
        "id": "1AFSdlqhQFEu",
        "colab_type": "code",
        "outputId": "49a369b2-5379-4c28-97a9-786dd7329349",
        "colab": {
          "base_uri": "https://localhost:8080/",
          "height": 197
        }
      },
      "source": [
        "m = cobra.test.create_test_model(\"textbook\")\n",
        "m.medium\n",
        "m.summary()"
      ],
      "execution_count": 0,
      "outputs": [
        {
          "output_type": "execute_result",
          "data": {
            "text/html": [
              "<div>\n",
              "<style scoped>\n",
              "    .dataframe tbody tr th:only-of-type {\n",
              "        vertical-align: middle;\n",
              "    }\n",
              "\n",
              "    .dataframe tbody tr th {\n",
              "        vertical-align: top;\n",
              "    }\n",
              "\n",
              "    .dataframe thead tr th {\n",
              "        text-align: left;\n",
              "    }\n",
              "</style>\n",
              "<table border=\"1\" class=\"dataframe\">\n",
              "  <thead>\n",
              "    <tr>\n",
              "      <th></th>\n",
              "      <th colspan=\"2\" halign=\"left\">IN_FLUXES</th>\n",
              "      <th colspan=\"2\" halign=\"left\">OUT_FLUXES</th>\n",
              "      <th colspan=\"2\" halign=\"left\">OBJECTIVES</th>\n",
              "    </tr>\n",
              "    <tr>\n",
              "      <th></th>\n",
              "      <th>ID</th>\n",
              "      <th>FLUX</th>\n",
              "      <th>ID</th>\n",
              "      <th>FLUX</th>\n",
              "      <th>ID</th>\n",
              "      <th>FLUX</th>\n",
              "    </tr>\n",
              "  </thead>\n",
              "  <tbody>\n",
              "    <tr>\n",
              "      <th>0</th>\n",
              "      <td>o2_e</td>\n",
              "      <td>21.799493</td>\n",
              "      <td>h2o_e</td>\n",
              "      <td>29.175827</td>\n",
              "      <td>Biomass_Ecoli_core</td>\n",
              "      <td>0.873922</td>\n",
              "    </tr>\n",
              "    <tr>\n",
              "      <th>1</th>\n",
              "      <td>glc__D_e</td>\n",
              "      <td>10.000000</td>\n",
              "      <td>co2_e</td>\n",
              "      <td>22.809833</td>\n",
              "      <td>NaN</td>\n",
              "      <td>NaN</td>\n",
              "    </tr>\n",
              "    <tr>\n",
              "      <th>2</th>\n",
              "      <td>nh4_e</td>\n",
              "      <td>4.765319</td>\n",
              "      <td>h_e</td>\n",
              "      <td>17.530865</td>\n",
              "      <td>NaN</td>\n",
              "      <td>NaN</td>\n",
              "    </tr>\n",
              "    <tr>\n",
              "      <th>3</th>\n",
              "      <td>pi_e</td>\n",
              "      <td>3.214895</td>\n",
              "      <td>NaN</td>\n",
              "      <td>NaN</td>\n",
              "      <td>NaN</td>\n",
              "      <td>NaN</td>\n",
              "    </tr>\n",
              "  </tbody>\n",
              "</table>\n",
              "</div>"
            ],
            "text/plain": [
              "<cobra.core.summary.model_summary.ModelSummary at 0x7efc0fc4a048>"
            ]
          },
          "metadata": {
            "tags": []
          },
          "execution_count": 5
        }
      ]
    }
  ]
}