{
  "nbformat": 4,
  "nbformat_minor": 0,
  "metadata": {
    "colab": {
      "name": "HW4 GenBank.ipynb",
      "provenance": [],
      "collapsed_sections": []
    },
    "kernelspec": {
      "name": "python3",
      "display_name": "Python 3"
    }
  },
  "cells": [
    {
      "cell_type": "code",
      "metadata": {
        "id": "OmVH_lP5HR5l",
        "colab_type": "code",
        "outputId": "7ad8518d-8a8c-4575-9965-bd98622a6cf2",
        "colab": {
          "base_uri": "https://localhost:8080/",
          "height": 124
        }
      },
      "source": [
        "!pip install biopython"
      ],
      "execution_count": 0,
      "outputs": [
        {
          "output_type": "stream",
          "text": [
            "Collecting biopython\n",
            "\u001b[?25l  Downloading https://files.pythonhosted.org/packages/83/3d/e0c8a993dbea1136be90c31345aefc5babdd5046cd52f81c18fc3fdad865/biopython-1.76-cp36-cp36m-manylinux1_x86_64.whl (2.3MB)\n",
            "\u001b[K     |████████████████████████████████| 2.3MB 5.0MB/s \n",
            "\u001b[?25hRequirement already satisfied: numpy in /usr/local/lib/python3.6/dist-packages (from biopython) (1.17.5)\n",
            "Installing collected packages: biopython\n",
            "Successfully installed biopython-1.76\n"
          ],
          "name": "stdout"
        }
      ]
    },
    {
      "cell_type": "code",
      "metadata": {
        "id": "14b-k0yXHX4U",
        "colab_type": "code",
        "outputId": "b79517ae-c1a4-4c86-bb46-8c6d06f575dc",
        "colab": {
          "base_uri": "https://localhost:8080/",
          "height": 126
        }
      },
      "source": [
        "from google.colab import drive\n",
        "drive.mount('/content/drive')"
      ],
      "execution_count": 0,
      "outputs": [
        {
          "output_type": "stream",
          "text": [
            "Go to this URL in a browser: https://accounts.google.com/o/oauth2/auth?client_id=947318989803-6bn6qk8qdgf4n4g3pfee6491hc0brc4i.apps.googleusercontent.com&redirect_uri=urn%3aietf%3awg%3aoauth%3a2.0%3aoob&response_type=code&scope=email%20https%3a%2f%2fwww.googleapis.com%2fauth%2fdocs.test%20https%3a%2f%2fwww.googleapis.com%2fauth%2fdrive%20https%3a%2f%2fwww.googleapis.com%2fauth%2fdrive.photos.readonly%20https%3a%2f%2fwww.googleapis.com%2fauth%2fpeopleapi.readonly\n",
            "\n",
            "Enter your authorization code:\n",
            "··········\n",
            "Mounted at /content/drive\n"
          ],
          "name": "stdout"
        }
      ]
    },
    {
      "cell_type": "code",
      "metadata": {
        "id": "NSrfhLf7HkFm",
        "colab_type": "code",
        "colab": {}
      },
      "source": [
        "from Bio import SeqIO, Entrez\n",
        "import pandas as pd"
      ],
      "execution_count": 0,
      "outputs": []
    },
    {
      "cell_type": "code",
      "metadata": {
        "id": "vF5XUgZLH8x4",
        "colab_type": "code",
        "colab": {}
      },
      "source": [
        "def download_gbk_from_ncbi(genome_name):\n",
        "   # Fetch a GenBank file from the NCBI Nucleotide database\n",
        "  Entrez.email = \"ehukim@kaist.ac.kr\"\n",
        "  handle = Entrez.efetch(db='nucleotide', id=genome_name,  rettype='gbwithparts', retmode = 'text')\n",
        "  \n",
        "\n",
        "  # Store the downloaded data in a Class called 'seq_record',\n",
        "  #from which specific data can be retrieved.\n",
        "  seq_record = SeqIO.read(handle, 'genbank')\n",
        "  print(type(seq_record))\n",
        "\n",
        "  return seq_record"
      ],
      "execution_count": 0,
      "outputs": []
    },
    {
      "cell_type": "code",
      "metadata": {
        "id": "3sFu2ah5QYgo",
        "colab_type": "code",
        "outputId": "22dd772e-907f-49fa-efaf-837ac1615317",
        "colab": {
          "base_uri": "https://localhost:8080/",
          "height": 35
        }
      },
      "source": [
        "genome_name = 'NC_000913.3'\n",
        "seq_record = download_gbk_from_ncbi(genome_name)\n"
      ],
      "execution_count": 0,
      "outputs": [
        {
          "output_type": "stream",
          "text": [
            "<class 'Bio.SeqRecord.SeqRecord'>\n"
          ],
          "name": "stdout"
        }
      ]
    },
    {
      "cell_type": "code",
      "metadata": {
        "id": "jwl2viTPSTR6",
        "colab_type": "code",
        "colab": {}
      },
      "source": [
        "def get_features_from_gbk(seq_records):\n",
        "  locus_tag = []\n",
        "  products = []\n",
        "  translations = []\n",
        "  for feature in seq_record.features:\n",
        "    if feature.type == 'CDS':\n",
        "      if feature.qualifiers.get('locus_tag'):\n",
        "        locusTag = feature.qualifiers['locus_tag'][0]\n",
        "        locus_tag.append(locusTag)\n",
        "\n",
        "        product = feature.qualifiers['product'][0] #since every CDS must have a product name\n",
        "        products.append(product)\n",
        "\n",
        "      else: \n",
        "        print(\"No locus tag found in the gbk file\")\n",
        "\n",
        "\n",
        "      if feature.qualifiers.get('translation'):\n",
        "        translation = feature.qualifiers['translation'][0]\n",
        "        translations.append(translation)\n",
        "      \n",
        "      else:\n",
        "        translations.append('N/A')\n",
        "  \n",
        "  feature_dict = {\"locus_tag\" : locus_tag, \"product\": products, \"translation\": translations}\n",
        "  df = pd.DataFrame.from_dict(feature_dict,orient = 'columns')\n",
        "  answer = df.to_csv('/content/drive/My Drive/individual study/HW_enzyme_genbank.csv', index=False )\n",
        "      \n"
      ],
      "execution_count": 0,
      "outputs": []
    },
    {
      "cell_type": "code",
      "metadata": {
        "id": "YN0CmiEFK4U-",
        "colab_type": "code",
        "colab": {}
      },
      "source": [
        "get_features_from_gbk(seq_record)"
      ],
      "execution_count": 0,
      "outputs": []
    }
  ]
}