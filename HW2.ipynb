{
  "nbformat": 4,
  "nbformat_minor": 0,
  "metadata": {
    "colab": {
      "name": "HW2.ipynb",
      "provenance": [],
      "collapsed_sections": []
    },
    "kernelspec": {
      "name": "python3",
      "display_name": "Python 3"
    }
  },
  "cells": [
    {
      "cell_type": "code",
      "metadata": {
        "id": "E_MTfLTBARkX",
        "colab_type": "code",
        "outputId": "9d360afc-73db-4f81-963e-fbc923e68658",
        "colab": {
          "base_uri": "https://localhost:8080/",
          "height": 587
        }
      },
      "source": [
        "!pip install cobra"
      ],
      "execution_count": 0,
      "outputs": [
        {
          "output_type": "stream",
          "text": [
            "Collecting cobra\n",
            "\u001b[?25l  Downloading https://files.pythonhosted.org/packages/c7/49/24ae8af404bc3d1135a6a50ee70478806205bee14a4b5addc554612276f4/cobra-0.17.1-py2.py3-none-any.whl (1.9MB)\n",
            "\u001b[K     |████████████████████████████████| 1.9MB 8.8MB/s \n",
            "\u001b[?25hCollecting python-libsbml-experimental==5.18.0\n",
            "\u001b[?25l  Downloading https://files.pythonhosted.org/packages/b6/8c/9116eb297e2d713382e1934651b3a6ee2dbe82c47944428db30b99f0cab9/python_libsbml_experimental-5.18.0-cp36-cp36m-manylinux1_x86_64.whl (43.9MB)\n",
            "\u001b[K     |████████████████████████████████| 43.9MB 97kB/s \n",
            "\u001b[?25hRequirement already satisfied: future in /usr/local/lib/python3.6/dist-packages (from cobra) (0.16.0)\n",
            "Requirement already satisfied: pandas>=0.17.0 in /usr/local/lib/python3.6/dist-packages (from cobra) (0.25.3)\n",
            "Collecting optlang>=1.4.2\n",
            "\u001b[?25l  Downloading https://files.pythonhosted.org/packages/5b/6a/25e8c4a0b487e5e23b968942e85a52e3072b38ddb3619e52e89c2e822d65/optlang-1.4.4-py2.py3-none-any.whl (125kB)\n",
            "\u001b[K     |████████████████████████████████| 133kB 44.4MB/s \n",
            "\u001b[?25hCollecting depinfo\n",
            "  Downloading https://files.pythonhosted.org/packages/e4/52/815b70d52b495bce1558d61a5e2fa4dffc1d696e1c5c65bfdd3c04b4bc90/depinfo-1.5.3-py2.py3-none-any.whl\n",
            "Requirement already satisfied: numpy>=1.13 in /usr/local/lib/python3.6/dist-packages (from cobra) (1.17.5)\n",
            "Collecting swiglpk\n",
            "\u001b[?25l  Downloading https://files.pythonhosted.org/packages/88/08/f9d8bea97a0e811ee538a8ad84529437c0093efbcdd19cc5427f45e73502/swiglpk-4.65.1-cp36-cp36m-manylinux1_x86_64.whl (627kB)\n",
            "\u001b[K     |████████████████████████████████| 634kB 53.9MB/s \n",
            "\u001b[?25hRequirement already satisfied: six in /usr/local/lib/python3.6/dist-packages (from cobra) (1.12.0)\n",
            "Collecting ruamel.yaml>=0.16\n",
            "\u001b[?25l  Downloading https://files.pythonhosted.org/packages/7c/34/a6653548900805dbd4e4fa8c233fe3af6e89069d8ec1185ccf947881ac58/ruamel.yaml-0.16.7-py2.py3-none-any.whl (123kB)\n",
            "\u001b[K     |████████████████████████████████| 133kB 64.4MB/s \n",
            "\u001b[?25hRequirement already satisfied: python-dateutil>=2.6.1 in /usr/local/lib/python3.6/dist-packages (from pandas>=0.17.0->cobra) (2.6.1)\n",
            "Requirement already satisfied: pytz>=2017.2 in /usr/local/lib/python3.6/dist-packages (from pandas>=0.17.0->cobra) (2018.9)\n",
            "Requirement already satisfied: sympy>=1.0.0 in /usr/local/lib/python3.6/dist-packages (from optlang>=1.4.2->cobra) (1.1.1)\n",
            "Collecting pipdeptree>=0.13.2\n",
            "  Downloading https://files.pythonhosted.org/packages/12/64/26c7df3ad833cd6e8b9735c5958b25d6aef1617c915b2731baedfbeee712/pipdeptree-0.13.2-py3-none-any.whl\n",
            "Collecting ruamel.yaml.clib>=0.1.2; platform_python_implementation == \"CPython\" and python_version < \"3.8\"\n",
            "\u001b[?25l  Downloading https://files.pythonhosted.org/packages/53/77/4bcd63f362bcb6c8f4f06253c11f9772f64189bf08cf3f40c5ccbda9e561/ruamel.yaml.clib-0.2.0-cp36-cp36m-manylinux1_x86_64.whl (548kB)\n",
            "\u001b[K     |████████████████████████████████| 552kB 54.6MB/s \n",
            "\u001b[?25hRequirement already satisfied: mpmath>=0.19 in /usr/local/lib/python3.6/dist-packages (from sympy>=1.0.0->optlang>=1.4.2->cobra) (1.1.0)\n",
            "Requirement already satisfied: pip>=6.0.0 in /usr/local/lib/python3.6/dist-packages (from pipdeptree>=0.13.2->depinfo->cobra) (19.3.1)\n",
            "Installing collected packages: python-libsbml-experimental, swiglpk, optlang, pipdeptree, depinfo, ruamel.yaml.clib, ruamel.yaml, cobra\n",
            "Successfully installed cobra-0.17.1 depinfo-1.5.3 optlang-1.4.4 pipdeptree-0.13.2 python-libsbml-experimental-5.18.0 ruamel.yaml-0.16.7 ruamel.yaml.clib-0.2.0 swiglpk-4.65.1\n"
          ],
          "name": "stdout"
        }
      ]
    },
    {
      "cell_type": "code",
      "metadata": {
        "id": "GeTBsg5OJCy6",
        "colab_type": "code",
        "colab": {}
      },
      "source": [
        "import cobra.test\n",
        "import os\n",
        "from os.path import join\n",
        "model = cobra.io.read_sbml_model(\"iMM904.xml\")"
      ],
      "execution_count": 0,
      "outputs": []
    },
    {
      "cell_type": "code",
      "metadata": {
        "id": "-JNaVUB5C5ou",
        "colab_type": "code",
        "outputId": "07d67ef9-4c4d-4114-caf2-f2b8af8ff4aa",
        "colab": {
          "base_uri": "https://localhost:8080/",
          "height": 183
        }
      },
      "source": [
        "model.medium"
      ],
      "execution_count": 0,
      "outputs": [
        {
          "output_type": "execute_result",
          "data": {
            "text/plain": [
              "{'EX_fe2_e': 999999.0,\n",
              " 'EX_glc__D_e': 10.0,\n",
              " 'EX_h2o_e': 999999.0,\n",
              " 'EX_h_e': 999999.0,\n",
              " 'EX_k_e': 999999.0,\n",
              " 'EX_na1_e': 999999.0,\n",
              " 'EX_nh4_e': 999999.0,\n",
              " 'EX_o2_e': 2.0,\n",
              " 'EX_pi_e': 999999.0,\n",
              " 'EX_so4_e': 999999.0}"
            ]
          },
          "metadata": {
            "tags": []
          },
          "execution_count": 3
        }
      ]
    },
    {
      "cell_type": "code",
      "metadata": {
        "id": "YFp0cLgUB850",
        "colab_type": "code",
        "colab": {}
      },
      "source": [
        "\n",
        "model.objective = model.reactions.get_by_id('EX_etoh_e')"
      ],
      "execution_count": 0,
      "outputs": []
    },
    {
      "cell_type": "code",
      "metadata": {
        "id": "gxkhjTZZBiRo",
        "colab_type": "code",
        "outputId": "2b4f4917-33cb-4313-9db6-157189c04120",
        "colab": {
          "base_uri": "https://localhost:8080/",
          "height": 100
        }
      },
      "source": [
        "#1.1\n",
        "from cobra.medium import minimal_medium\n",
        "with model:\n",
        "  max_growth = model.slim_optimize()\n",
        "  model.medium = minimal_medium(model, max_growth)\n",
        "  print(model.summary())"
      ],
      "execution_count": 0,
      "outputs": [
        {
          "output_type": "stream",
          "text": [
            "cobra/core/summary/summary.py:206 \u001b[1;31mUserWarning\u001b[0m: Setting float_format to anything other than None will cause nan to be present in the output.\n"
          ],
          "name": "stderr"
        },
        {
          "output_type": "stream",
          "text": [
            "IN_FLUXES IN_FLUXES OUT_FLUXES OUT_FLUXES OBJECTIVES OBJECTIVES\n",
            "    ID       FLUX       ID        FLUX        ID        FLUX   \n",
            " glc__D_e     10       co2_e       20      EX_etoh_e     20    \n",
            "             nan      etoh_e       20                   nan    \n"
          ],
          "name": "stdout"
        }
      ]
    },
    {
      "cell_type": "code",
      "metadata": {
        "id": "dotLoMFMT4I1",
        "colab_type": "code",
        "outputId": "05f1da10-aeee-4b21-bc3b-d8a35ea723e7",
        "colab": {
          "base_uri": "https://localhost:8080/",
          "height": 33
        }
      },
      "source": [
        "print(\"Theoretical yield(glucose) : %f mol ethanol/mol glucose\" % (20/10))"
      ],
      "execution_count": 0,
      "outputs": [
        {
          "output_type": "stream",
          "text": [
            "Theoretical yield(glucose) : 2.000000 mol ethanol/mol glucose\n"
          ],
          "name": "stdout"
        }
      ]
    },
    {
      "cell_type": "code",
      "metadata": {
        "id": "y2IE99AkDp9C",
        "colab_type": "code",
        "outputId": "21a66e62-8874-41f4-9cd6-05ff9c055f9a",
        "colab": {
          "base_uri": "https://localhost:8080/",
          "height": 100
        }
      },
      "source": [
        "#1.2\n",
        "with model:\n",
        "  medium = model.medium \n",
        "  medium[\"EX_glc__D_e\"] = 0.0\n",
        "  medium[\"EX_sucr_e\"] = 10.0\n",
        "  model.medium = medium\n",
        "  max_growth = model.slim_optimize()\n",
        "  model.medium = minimal_medium(model, max_growth)\n",
        "  print(model.summary())"
      ],
      "execution_count": 0,
      "outputs": [
        {
          "output_type": "stream",
          "text": [
            "cobra/core/summary/summary.py:206 \u001b[1;31mUserWarning\u001b[0m: Setting float_format to anything other than None will cause nan to be present in the output.\n"
          ],
          "name": "stderr"
        },
        {
          "output_type": "stream",
          "text": [
            "IN_FLUXES IN_FLUXES OUT_FLUXES OUT_FLUXES OBJECTIVES OBJECTIVES\n",
            "    ID       FLUX       ID        FLUX        ID        FLUX   \n",
            "   h2o_e      10      etoh_e       40      EX_etoh_e     40    \n",
            "  sucr_e      10       co2_e       40                   nan    \n"
          ],
          "name": "stdout"
        }
      ]
    },
    {
      "cell_type": "code",
      "metadata": {
        "id": "ZBrko5YcUcZh",
        "colab_type": "code",
        "outputId": "6038c1bc-c9d7-48e6-ad06-6da3c73aff27",
        "colab": {
          "base_uri": "https://localhost:8080/",
          "height": 33
        }
      },
      "source": [
        "print(\"Theoretical yield(sucrose): %f mol ethanol/mol sucrose\" % (40/10))"
      ],
      "execution_count": 0,
      "outputs": [
        {
          "output_type": "stream",
          "text": [
            "Theoretical yield(sucrose): 4.000000 mol ethanol/mol sucrose\n"
          ],
          "name": "stdout"
        }
      ]
    },
    {
      "cell_type": "code",
      "metadata": {
        "id": "sAqCEUewDsKG",
        "colab_type": "code",
        "outputId": "beb97a63-a438-4e2f-cbfc-2a2ac318aa3b",
        "colab": {
          "base_uri": "https://localhost:8080/",
          "height": 100
        }
      },
      "source": [
        "#1.3\n",
        "with model:\n",
        "  medium = model.medium \n",
        "  medium[\"EX_glc__D_e\"] = 0.0\n",
        "  medium[\"EX_xyl__D_e\"] = 10.0\n",
        "  model.medium = medium\n",
        "  max_growth = model.slim_optimize()\n",
        "  model.medium = minimal_medium(model, max_growth) \n",
        "  print(model.summary()) "
      ],
      "execution_count": 0,
      "outputs": [
        {
          "output_type": "stream",
          "text": [
            "cobra/core/summary/summary.py:206 \u001b[1;31mUserWarning\u001b[0m: Setting float_format to anything other than None will cause nan to be present in the output.\n"
          ],
          "name": "stderr"
        },
        {
          "output_type": "stream",
          "text": [
            "IN_FLUXES IN_FLUXES OUT_FLUXES OUT_FLUXES OBJECTIVES OBJECTIVES\n",
            "    ID       FLUX       ID        FLUX        ID        FLUX   \n",
            " xyl__D_e     10       co2_e      16.7     EX_etoh_e    16.7   \n",
            "             nan      etoh_e      16.7                   nan   \n"
          ],
          "name": "stdout"
        }
      ]
    },
    {
      "cell_type": "code",
      "metadata": {
        "id": "pfDryie8U3jT",
        "colab_type": "code",
        "outputId": "c60d81e3-3b94-449b-c58d-8bda36a5d6d7",
        "colab": {
          "base_uri": "https://localhost:8080/",
          "height": 33
        }
      },
      "source": [
        "print(\"Theoretical yield(xylose) : %f mole ethanol/mole xylose\" % (16.7/10))"
      ],
      "execution_count": 0,
      "outputs": [
        {
          "output_type": "stream",
          "text": [
            "Theoretical yield(xylose) : 1.670000 mole ethanol/mole xylose\n"
          ],
          "name": "stdout"
        }
      ]
    },
    {
      "cell_type": "markdown",
      "metadata": {
        "id": "Vm6rRv9bKFH9",
        "colab_type": "text"
      },
      "source": [
        "2. 1) C6H12O6 + O2 + NH3 -> CHaObNd + C2H5OH + CO2 + H2O \n",
        "\n",
        "\n",
        "  2)C12H22O11 + O2 + NH3 -> CHaObNd + C2H5OH + CO2 + C4H10O2 \n",
        "  \n",
        "  3)C5H10O5 + O2 + NH3 -> CHaObNd + C2H5OH + CO2 + H2O\n"
      ]
    },
    {
      "cell_type": "markdown",
      "metadata": {
        "id": "ylO84pmsRb_n",
        "colab_type": "text"
      },
      "source": [
        "###3. Which carbon source would be the most attractive one?\n",
        "Ans: Using sucrose seems the best option because of the high yield value and relatively low cost of material."
      ]
    }
  ]
}