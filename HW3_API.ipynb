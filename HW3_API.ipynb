{
  "nbformat": 4,
  "nbformat_minor": 0,
  "metadata": {
    "colab": {
      "name": "HW3 API.ipynb",
      "provenance": [],
      "collapsed_sections": []
    },
    "kernelspec": {
      "name": "python3",
      "display_name": "Python 3"
    }
  },
  "cells": [
    {
      "cell_type": "code",
      "metadata": {
        "id": "eSfH1i_XmsEI",
        "colab_type": "code",
        "outputId": "b3464688-63c8-4100-d491-c00ff2db34f2",
        "colab": {
          "base_uri": "https://localhost:8080/",
          "height": 33
        }
      },
      "source": [
        "from google.colab import drive\n",
        "drive.mount('/content/drive')"
      ],
      "execution_count": 0,
      "outputs": [
        {
          "output_type": "stream",
          "text": [
            "Drive already mounted at /content/drive; to attempt to forcibly remount, call drive.mount(\"/content/drive\", force_remount=True).\n"
          ],
          "name": "stdout"
        }
      ]
    },
    {
      "cell_type": "code",
      "metadata": {
        "id": "fKqmEWIqnaLq",
        "colab_type": "code",
        "colab": {}
      },
      "source": [
        "import urllib.request\n",
        "import numpy as np\n",
        "import pandas as pd\n",
        "\n",
        "df = pd.read_csv('/content/drive/My Drive/individual study/API/CBE481_Week4_20190924_Homework-Input.csv')\n",
        "\n",
        "ec_number_dict = dict()\n",
        "for i in df.index:\n",
        "  # Read an Entrez rxn ID from an input csv file\n",
        "  rxn_id = str(df['Reaction ID'][i])\n",
        "  \n",
        "  try:\n",
        "    with urllib.request.urlopen('http://rest.kegg.jp/get/rn:%s' % (rxn_id)) as response:\n",
        "      rxn_info = str(response.read())\n",
        "      #print(rxn_info)\n",
        "      rxn_info_list = rxn_info.split('\\\\n')\n",
        "      #print(rxn_info_list)\n",
        "      for item in rxn_info_list:\n",
        "        line_info = item.split()\n",
        "        if line_info[0] == \"ENZYME\":\n",
        "          ec_number_dict[rxn_id] = line_info[1]\n",
        "      \n",
        "\n",
        "  except:\n",
        "    ec_number_dict[rxn_id] = np.nan\n",
        "    pass\n",
        "\n",
        "\n",
        "ec_number_df = pd.DataFrame.from_dict(ec_number_dict,\n",
        "orient = 'index', columns = ['EC Number'])\n",
        "ec_number_df = ec_number_df.dropna()\n",
        "ec_number_df\n",
        "ec_number_df.to_csv('/content/drive/My Drive/individual study/API/Homework_output_mine.csv')\n"
      ],
      "execution_count": 0,
      "outputs": []
    }
  ]
}